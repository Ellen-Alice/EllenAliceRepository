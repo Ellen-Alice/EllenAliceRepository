{
  "nbformat": 4,
  "nbformat_minor": 0,
  "metadata": {
    "colab": {
      "provenance": [],
      "authorship_tag": "ABX9TyP+fNlorMPv/M9aG2BAoVJI",
      "include_colab_link": true
    },
    "kernelspec": {
      "name": "python3",
      "display_name": "Python 3"
    },
    "language_info": {
      "name": "python"
    }
  },
  "cells": [
    {
      "cell_type": "markdown",
      "metadata": {
        "id": "view-in-github",
        "colab_type": "text"
      },
      "source": [
        "<a href=\"https://colab.research.google.com/github/Ellen-Alice/EllenAliceRepository/blob/main/Untitled0.ipynb\" target=\"_parent\"><img src=\"https://colab.research.google.com/assets/colab-badge.svg\" alt=\"Open In Colab\"/></a>"
      ]
    },
    {
      "cell_type": "code",
      "execution_count": null,
      "metadata": {
        "id": "4s2-uIZYyhkI"
      },
      "outputs": [],
      "source": [
        "Group Work 13.04.2024\n",
        "\n",
        "\n",
        "# 1.Define a list of numbers [10, 20, 30, 40, 50].\n",
        "numbers = [10, 20, 30, 40, 50]\n",
        "print(numbers)\n",
        "\n",
        "#2.Print the length of the list.\n",
        "print(len(numbers))\n",
        "\n",
        "#3.Print the first element of the list.\n",
        "print(numbers[0])\n",
        "\n",
        "#4.Print the last element of the list.\n",
        "print(numbers[-1])\n",
        "\n",
        "#5.Append a new number (e.g., 60) to the list.\n",
        "numbers.append(60)\n",
        "\n",
        "\n",
        "#6.Print the updated list.\n",
        "print(numbers)\n",
        "\n",
        "#7.Remove the second element from the list.\n",
        "numbers.pop(1)\n",
        "\n",
        "#8.Print the list after removal.\n",
        "print(numbers)\n",
        "\n",
        "#9.Check if a specific number (e.g., 30) exists in the list and print the result.\n",
        "if 30 in numbers:\n",
        "  print('numbers found')\n",
        "else:\n",
        "  print('does not exist')"
      ]
    }
  ]
}